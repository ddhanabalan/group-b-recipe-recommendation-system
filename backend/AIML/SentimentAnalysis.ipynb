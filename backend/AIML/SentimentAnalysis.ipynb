{
 "cells": [
  {
   "cell_type": "code",
   "execution_count": 27,
   "id": "08d44e45",
   "metadata": {},
   "outputs": [],
   "source": [
    "import pandas as pd\n",
    "\n",
    "import pickle\n",
    "\n",
    "import nltk\n",
    "from nltk.corpus import stopwords\n",
    "from nltk.tokenize import word_tokenize\n",
    "from nltk.sentiment import SentimentIntensityAnalyzer\n",
    "\n",
    "df=pd.read_csv('all_users2.csv')"
   ]
  },
  {
   "cell_type": "markdown",
   "id": "4227133e",
   "metadata": {},
   "source": [
    "**pre processing the dataset by filling null attributes and conversion to proper type for execution**"
   ]
  },
  {
   "cell_type": "code",
   "execution_count": 30,
   "id": "4af8f542",
   "metadata": {},
   "outputs": [],
   "source": [
    "#fill NaN values with an empty string\n",
    "df['review'] = df['review'].fillna('')\n",
    "\n",
    "#convert all reviews to string\n",
    "df['review'] = df['review'].astype(str)\n",
    "\n",
    "#dataset containing two features: comment_id as int and review as string\n",
    "reviews = df['review']\n",
    "comment_ids = df['comment_id']"
   ]
  },
  {
   "cell_type": "code",
   "execution_count": 29,
   "id": "74d9b652",
   "metadata": {},
   "outputs": [],
   "source": [
    "#pre-process : clean and tokenize\n",
    "def preprocess_text(text, comment_id):\n",
    "    stop_words = set(stopwords.words('english'))\n",
    "    word_tokens = word_tokenize(text.lower())\n",
    "    filtered_tokens = [word for word in word_tokens if word.isalnum() and word not in stop_words]\n",
    "    return filtered_tokens, comment_id\n",
    "\n",
    "sia = SentimentIntensityAnalyzer()\n",
    "negative_comment_ids = []\n",
    "\n",
    "#iterate over reviews and comment IDs\n",
    "for review, comment_id in zip(reviews, comment_ids):\n",
    "    \n",
    "    tokens, comment_id = preprocess_text(review, comment_id)\n",
    "\n",
    "    sentiment_score = sia.polarity_scores(' '.join(tokens))\n",
    "    \n",
    "    if sentiment_score['compound'] >= 0.45:\n",
    "        sentiment = 'positive'\n",
    "    elif sentiment_score['compound'] <= -0.45:\n",
    "        sentiment = 'negative'\n",
    "    else:\n",
    "        sentiment = 'neutral'\n",
    "    \n",
    "    if sentiment == 'negative':\n",
    "        negative_comment_ids.append(comment_id)\n"
   ]
  },
  {
   "cell_type": "code",
   "execution_count": 31,
   "id": "4ba5a331",
   "metadata": {},
   "outputs": [
    {
     "name": "stdout",
     "output_type": "stream",
     "text": [
      "Model and data have been loaded successfully.\n"
     ]
    }
   ],
   "source": [
    "data_to_pickle = {\n",
    "    'model': sia,\n",
    "    'negative_comment_ids': negative_comment_ids\n",
    "}\n",
    "\n",
    "with open('sentiment_analyser.pkl', 'wb') as f:\n",
    "    pickle.dump(data_to_pickle, f)\n",
    "\n",
    "with open('sentiment_analyser.pkl', 'rb') as f:\n",
    "    data = pickle.load(f)\n",
    "\n",
    "#extract the SentimentIntensityAnalyzer model and the list of negative comment IDs\n",
    "loaded_sia = data['model']\n",
    "loaded_negative_comment_ids = data['negative_comment_ids']\n",
    "\n",
    "print(\"Model and data have been loaded successfully.\")"
   ]
  }
 ],
 "metadata": {
  "kernelspec": {
   "display_name": "Python 3 (ipykernel)",
   "language": "python",
   "name": "python3"
  },
  "language_info": {
   "codemirror_mode": {
    "name": "ipython",
    "version": 3
   },
   "file_extension": ".py",
   "mimetype": "text/x-python",
   "name": "python",
   "nbconvert_exporter": "python",
   "pygments_lexer": "ipython3",
   "version": "3.10.12"
  }
 },
 "nbformat": 4,
 "nbformat_minor": 5
}
